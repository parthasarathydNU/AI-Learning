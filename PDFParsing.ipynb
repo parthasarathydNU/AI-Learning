{
  "nbformat": 4,
  "nbformat_minor": 0,
  "metadata": {
    "colab": {
      "provenance": [],
      "authorship_tag": "ABX9TyPghe2v/liS3GU+aUlKLDtA"
    },
    "kernelspec": {
      "name": "python3",
      "display_name": "Python 3"
    },
    "language_info": {
      "name": "python"
    }
  },
  "cells": [
    {
      "cell_type": "code",
      "source": [
        "!pip install pypdf"
      ],
      "metadata": {
        "colab": {
          "base_uri": "https://localhost:8080/"
        },
        "id": "9PqaDtXdAUA_",
        "outputId": "c3efab4e-18e9-4cb6-bdf1-aa4a84ade1c4"
      },
      "execution_count": 3,
      "outputs": [
        {
          "metadata": {
            "tags": null
          },
          "name": "stdout",
          "output_type": "stream",
          "text": [
            "Collecting pypdf\n",
            "  Downloading pypdf-4.1.0-py3-none-any.whl (286 kB)\n",
            "\u001b[?25l     \u001b[90m━━━━━━━━━━━━━━━━━━━━━━━━━━━━━━━━━━━━━━━━\u001b[0m \u001b[32m0.0/286.1 kB\u001b[0m \u001b[31m?\u001b[0m eta \u001b[36m-:--:--\u001b[0m\r\u001b[2K     \u001b[91m━━━━━━━━━━━━━━━━━━━━\u001b[0m\u001b[90m╺\u001b[0m\u001b[90m━━━━━━━━━━━━━━━━━━━\u001b[0m \u001b[32m143.4/286.1 kB\u001b[0m \u001b[31m4.1 MB/s\u001b[0m eta \u001b[36m0:00:01\u001b[0m\r\u001b[2K     \u001b[90m━━━━━━━━━━━━━━━━━━━━━━━━━━━━━━━━━━━━━━━━\u001b[0m \u001b[32m286.1/286.1 kB\u001b[0m \u001b[31m5.0 MB/s\u001b[0m eta \u001b[36m0:00:00\u001b[0m\n",
            "\u001b[?25hInstalling collected packages: pypdf\n",
            "Successfully installed pypdf-4.1.0\n"
          ]
        }
      ]
    },
    {
      "cell_type": "code",
      "execution_count": 4,
      "metadata": {
        "id": "JynB8dr3_5Zl"
      },
      "outputs": [],
      "source": [
        "from pypdf import PdfReader"
      ]
    },
    {
      "cell_type": "code",
      "source": [
        "fileName = \"/content/sample_data/Assignment 3 - Animesh Giri.pdf\""
      ],
      "metadata": {
        "id": "yiWVUQf5ATED"
      },
      "execution_count": 5,
      "outputs": []
    },
    {
      "cell_type": "code",
      "source": [
        "reader = PdfReader(fileName)\n",
        "number_of_pages = len(reader.pages)\n",
        "print(number_of_pages)"
      ],
      "metadata": {
        "colab": {
          "base_uri": "https://localhost:8080/"
        },
        "id": "mbBqa6oHBV1c",
        "outputId": "9cae63f7-98bb-4d00-b903-bcdab7a42a92"
      },
      "execution_count": 6,
      "outputs": [
        {
          "output_type": "stream",
          "name": "stdout",
          "text": [
            "18\n"
          ]
        }
      ]
    },
    {
      "cell_type": "code",
      "source": [
        "page = reader.pages[0]\n",
        "text = page.extract_text()\n",
        "print(text)"
      ],
      "metadata": {
        "colab": {
          "base_uri": "https://localhost:8080/"
        },
        "id": "-kN9-9ArBdUL",
        "outputId": "3925fa94-edec-43a4-9f1e-2624ed950a57"
      },
      "execution_count": 7,
      "outputs": [
        {
          "output_type": "stream",
          "name": "stdout",
          "text": [
            "Animesh Giri 002743464  Assignment 3: Practical Implementation of Advanced Prompt Engineering Techniques 1) Root Prompts: Create a Root Prompt that serves as a foundational query for complex interactions. Answer:  Prompt : \"Guide me toward a personalized health and wellness plan based on my current lifestyle, preferences, and health goals.\"  This Root Prompt lays the foundation for a multifaceted interaction, allowing the AI to delve into the user's lifestyle, preferences, and health objectives. It serves as a starting point for generating tailored advice on nutrition, exercise routines, and overall well-being.  Response from ChatGPT :  Creating a personalized health and wellness plan involves considering your current lifestyle, preferences, and health goals. Keep in mind that it's important to consult with a healthcare professional before making significant changes to your diet or exercise routine. Here's a general guide to help you get started: 1. Assess Your Current Lifestyle: a. Daily Schedule: • What does your typical day look like? • When do you wake up and go to bed? • Are there specific times you can allocate for exercise and meals? b. Physical Activity: • What is your current level of physical activity? • Do you have any preferred types of exercise or activities? c. Nutrition: • What does your typical diet consist of? • Are there specific dietary preferences or restrictions? d. Stress Levels: • How do you manage stress? • Are there activities or practices that help you relax? 2. Set Clear Health Goals: a. Specific Goals: • Define specific health goals such as weight loss, muscle gain, improved cardiovascular health, or stress reduction. b. Realistic Expectations: • Ensure that your goals are achievable and align with your lifestyle. c. Short-term and Long-term Goals: • Break down your goals into smaller, manageable steps. 3. Create a Balanced Nutrition Plan: a. Evaluate Current Diet: • Identify areas for improvement in your current diet. b. Balanced Meals: • Include a mix of lean proteins, whole grains, fruits, vegetables, and healthy fats in your meals. c. Hydration: • Ensure adequate water intake throughout the day. 4. Develop a Customized Exercise Routine: a. Incorporate Activities You Enjoy: • Choose exercises or activities that you find enjoyable. b. Set Realistic Exercise Goals: \n"
          ]
        }
      ]
    },
    {
      "cell_type": "code",
      "source": [
        "# The goal of this notebook is to be able to extract relevant information from this text\n",
        "#"
      ],
      "metadata": {
        "id": "uT04iIJaCB2J"
      },
      "execution_count": null,
      "outputs": []
    }
  ]
}